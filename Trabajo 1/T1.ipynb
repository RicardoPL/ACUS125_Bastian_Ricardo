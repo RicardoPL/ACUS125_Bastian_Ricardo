{
 "cells": [
  {
   "cell_type": "markdown",
   "id": "framed-basics",
   "metadata": {},
   "source": [
    "<h1 style=\"text-align:center\">Primer proyecto (P1)</h1>\n",
    "<h2 style=\"text-align:center\">ACUS099: Procesamiento digital de señales</h2>\n",
    "<h3 style=\"text-align:center\">22 de Abril del 2022</h3>\n",
    "<h3 style=\"text-align:center\"></h3>\n",
    "\n",
    "### Integrantes : Bastián Antillanca - Ricardo Pino\n",
    "### Correos: bastian.antillanca@alumnos.uach.cl - ricardo.pino@alumnos.uach.cl"
   ]
  },
  {
   "cell_type": "markdown",
   "id": "single-uncle",
   "metadata": {},
   "source": [
    "### Ejercicio:\n",
    "\n",
    "> + Una barra rígida, uniforme, de masa total ${\\text{m}}$ y longitud ${\\text{L}_{\\text{2}}}$, está suspendida en el punto ${\\text{0}}$ por una cuerda de longitud ${\\text{L}_{\\text{1}}}$. Sobre la barra actúa una fuerza horizontal ${\\text{F}}$ como se muestra en la Fig. 1.\n",
    "\n",
    "<p style=\"text-align:center\">\n",
    "\t<img src=\"barra.jpg\" alt=\"Barra rígida\" width=30%/></a><br>\n",
    "    <strong> Figura 1: Barra rígida sobre una cuerda. </strong>\n",
    "</p>\n",
    "\n",
    "> + Usar los desplazamientos angulares $\\theta_{\\text{1}}$ y $\\theta_{\\text{2}}$ para definir la posición, velocidad y aceleración del centro de masa $\\text{C}$, en términos de los ejes del cuerpo $\\hat{r}_{2}$ y $\\hat{\\theta}_{2}$\n"
   ]
  },
  {
   "cell_type": "markdown",
   "id": "heard-running",
   "metadata": {},
   "source": [
    "### Marco Teórico:\n",
    "\n",
    "> En este problema como el cuerpo es capaz tanto de realizar traslación como rotación conviene referir el movimiento a un punto en movimiento. Entonces se utilizara el movimiento general en plano referido al centro de masa. Por lo tanto, la ecuacion de fuerza será: \n",
    "\n",
    "\\begin{align*}\n",
    "{\\bf{F}}&=m\\,{\\bf{\\ddot{\\text{r}}}}_{C}         \n",
    "\\end{align*}\n",
    "\n",
    "> A partir del movimiento general en plano referido al centro masa, se tiene que:\n",
    "\n",
    "\\begin{align*}\n",
    "{\\bf{M}}_{\\text{C}}&={\\bf{\\dot{H}}}_{\\text{C}}\n",
    "\\end{align*}\n",
    "\n",
    "> Ademas, como es un movimiento plano, queda tal que:\n",
    "\n",
    "\\begin{align*}\n",
    "{\\bf{M}}_{\\text{C}}&={\\text{M}}_{\\text{C}}\\,\\hat{k}\n",
    "\\end{align*}\n",
    "\n",
    "> Por analogía, con el caso de momentum angular con respecto a un punto fijo ${\\text{0}}$, se tiene que:\n",
    "\n",
    "\\begin{align*}\n",
    "{\\bf{H}}_{\\text{C}}&={\\text{I}}_{\\text{C}}\\,\\omega\\, \\hat{k}\n",
    "\\end{align*}\n",
    "\n",
    "> Por lo tanto, para el movimiento planar, las ecuaciones de fuerza nos quedan de la siguiente manera:\n",
    "\n",
    "\\begin{align*}\n",
    "{\\text{F}}_{\\text{x}}&={\\text{m}}\\,{\\text{a}}\\,_{\\text{c}_{x}}\n",
    "\\end{align*}\n",
    "\n",
    "\\begin{align*}\n",
    "{\\text{F}}_{\\text{y}}&={\\text{m}}\\,{\\text{a}}\\,_{\\text{c}_{y}}\n",
    "\\end{align*}\n",
    "\n",
    "\\begin{align*}\n",
    "{\\text{M}}_{\\text{C}}&={\\text{I}}_{\\text{C}}\\,\\alpha\n",
    "\\end{align*}"
   ]
  },
  {
   "cell_type": "markdown",
   "id": "meaning-economy",
   "metadata": {},
   "source": [
    "### DESARROLO"
   ]
  },
  {
   "cell_type": "markdown",
   "id": "massive-modern",
   "metadata": {},
   "source": [
    "<p style=\"text-align:center\">\n",
    "\t<img src=\"DCP.JPG\" alt=\"Barra rígida\" width=50%/></a><br>\n",
    "    <strong> Figura 2. </strong>\n",
    "</p>\n"
   ]
  },
  {
   "cell_type": "markdown",
   "id": "destroyed-catch",
   "metadata": {},
   "source": [
    " De la Figura 2 tenemos que:\n",
    "> + a) Barra rígida en una cuerda\n",
    "> + b) Posición del centro de masa\n",
    "> + c) Diagrama de cuerpo libre\n"
   ]
  },
  {
   "cell_type": "markdown",
   "id": "killing-belgium",
   "metadata": {},
   "source": [
    "Antes que todo recordar:\n",
    ">+ vector posición\n",
    "\n",
    "\\begin{align*}\n",
    "\\vec{r}=L\\hat{r}\n",
    "\\end{align*}\n",
    "\n",
    ">+ vector velocidad\n",
    "\n",
    "\\begin{align*}\n",
    "\\vec{v}=L\\dot{\\theta }\\hat{\\theta}\n",
    "\\end{align*}\n",
    ">+ vector aceleración\n",
    "\n",
    "\\begin{align*}\n",
    "\\vec{a}=L\\ddot{\\theta }\\hat{\\theta}-L\\dot{\\theta}^{2}\\hat{r}\n",
    "\\end{align*}"
   ]
  },
  {
   "cell_type": "markdown",
   "id": "uniform-monitoring",
   "metadata": {},
   "source": [
    " Para definir la posición, velocidad y aceleración del centro de masa $\\text{C}$ nos fijamos en la Figura 2 apartado b. Entonces se tiene que:\n",
    "\n",
    "\\begin{align*} \n",
    "r_{C}=r_{A}+r_{AC}\n",
    "\\end{align*}\n",
    "\n",
    "y los dejamos en terminos de L, tal que:\n",
    "\n",
    "\\begin{align*} \\tag{a} \\label{recta}\n",
    "r_{C}=L_{1}u_{r1}+\\frac{L_{2}}{2}u_{r2}\n",
    "\\end{align*}"
   ]
  },
  {
   "cell_type": "markdown",
   "id": "interstate-robert",
   "metadata": {},
   "source": [
    "Se deriva la ec. hasta encontrar las ecuaciones de velocidad y acelaración respecto al centro de masa, y se obtiene lo siguiente:\n",
    ">+ velocidad centro de masa\n",
    "\n",
    "\\begin{align*} \\tag{b} \\label{recta}\n",
    "v_{C}=v_{A}+v_{AC}=L_{1}\\dot{\\theta_{1}}u_{\\theta1}+\\frac{L_{2}}{2}\\dot{\\theta_{2}}u_{\\theta2}\n",
    "\\end{align*}"
   ]
  },
  {
   "cell_type": "markdown",
   "id": "seven-friendly",
   "metadata": {},
   "source": [
    ">+ aceleracion centro de masa\n",
    "\n",
    "\\begin{align*} \\tag{c} \\label{recta}\n",
    "a_{C}=a_{A}+a_{AC}=-L_{1}\\dot{\\theta_{1}^{2}}u_{r1}+L_{1}\\ddot{\\theta_{1}}u_{\\theta1}-\\frac{L_{2}}{2}\\dot{\\theta_{2}^{2}}u_{r2}+\\frac{L_{2}}{2}\\ddot{\\theta_{2}}u_{\\theta2}\n",
    "\\end{align*}\n"
   ]
  },
  {
   "cell_type": "markdown",
   "id": "connected-large",
   "metadata": {},
   "source": [
    "A partir de la Figura 1b, se realizo la relación trigonometrica para definir $u_{r1}$ y $u_{\\theta1}$ interpretando la suma de de dos vectores.\n",
    "\n",
    "><p style=\"text-align:center\">\n",
    "\t<img src=\"A.JPG\" alt=\"FIGURA 3\" width=35%/></a><br>\n",
    "    <strong> Figura 3. </strong>\n",
    "</p>\n",
    "\n",
    "\n",
    "\n"
   ]
  },
  {
   "cell_type": "markdown",
   "id": "eligible-behavior",
   "metadata": {},
   "source": [
    "A través de identidades trigonométricas obtenemos que:\n",
    "\n",
    "\\begin{align*} \\tag{1} \\label{recta} \n",
    "u_{r1}=cos(\\theta_{2}-\\theta_{1})u_{r2}-sin(\\theta_{2}-\\theta_{1})u_{\\theta2}   \n",
    "\\end{align*}\n"
   ]
  },
  {
   "cell_type": "markdown",
   "id": "loving-telling",
   "metadata": {},
   "source": [
    "\\begin{align*}  \\tag{2} \\label{recta}\n",
    "u_{\\theta1}=sin(\\theta_{2}-\\theta_{1})u_{r2}+cos(\\theta_{2}-\\theta_{1})u_{\\theta2}\n",
    "\\end{align*}"
   ]
  },
  {
   "cell_type": "markdown",
   "id": "brief-homework",
   "metadata": {},
   "source": [
    "Luego, se reemplaza la ec(1) y la ec(2) en los vectores de centro de masa (ecuaciones a, b y c) y se factoriza por $u_{r2}$ y $u_{\\theta2}$, tal que"
   ]
  },
  {
   "cell_type": "markdown",
   "id": "defensive-azerbaijan",
   "metadata": {},
   "source": [
    "\\begin{align*}  \\tag{f} \\label{recta}\n",
    "r_{C}=[L_{1}cos(\\theta_{2}-\\theta_{1})+\\frac{L_{2}}{2}]u_{r2}-L_{1}sin(\\theta_{2}-\\theta_{1})u_{\\theta2}\n",
    "\\end{align*}"
   ]
  },
  {
   "cell_type": "markdown",
   "id": "dramatic-milan",
   "metadata": {},
   "source": [
    "\\begin{align*}  \\tag{e} \\label{recta}\n",
    "v_{C}=L_{1}\\dot{\\theta_{1}}\\sin(\\theta_{2}-\\theta_{1})u_{r2}+[L_{1}\\dot{\\theta_{1}}\\cos(\\theta_{2}-\\theta_{1})+\\frac{L_2}{2}\\dot{\\theta_{2}}]u_{\\theta2}\n",
    "\\end{align*}\n"
   ]
  },
  {
   "cell_type": "markdown",
   "id": "retained-brother",
   "metadata": {},
   "source": [
    "\\begin{align*}  \\tag{f} \\label{recta}\n",
    "a_{C}=[L_{1}\\ddot{\\theta_{1}}\\sin(\\theta_{2}-\\theta_{1})-L_{1}{\\dot\\theta_{1}^{2}cos(\\theta_{2}-\\theta_{1})}-\\frac{L_{2}}{2}\\dot{\\theta_{2}^{2}}]u_{r2}+[L_{1}\\ddot{\\theta_{1}}\\cos(\\theta_{2}-\\theta_{1})+L_{1}{\\dot{\\theta_{1}^{2}}sin(\\theta_{2}-\\theta_{1})}+\\frac{L_{2}}{2}\\ddot{\\theta_{2}^{2}}]u_{\\theta2}\n",
    "\\end{align*}\n"
   ]
  },
  {
   "cell_type": "markdown",
   "id": "dressed-bolivia",
   "metadata": {},
   "source": [
    "Tenemos que las ecuaciones de la fuerza de centro de masa en los componentes de $r2$ y $\\theta2$. "
   ]
  },
  {
   "cell_type": "markdown",
   "id": "amateur-dollar",
   "metadata": {},
   "source": [
    "\\begin{align*}\n",
    "F_{r2}=ma_{Cr2},F_{\\theta2}=ma_{C\\theta2}\n",
    "\\end{align*}"
   ]
  },
  {
   "cell_type": "markdown",
   "id": "brief-lighter",
   "metadata": {},
   "source": [
    "Y para el momentum:\n",
    "\n",
    "\\begin{align*}\n",
    "M_{C}=I_{C}\\alpha=I_{C}\\ddot{\\theta}_{2}\n",
    "\\end{align*}"
   ]
  },
  {
   "cell_type": "markdown",
   "id": "partial-scale",
   "metadata": {},
   "source": [
    "Luego para encontrar las fuerzas que se ejercen en $F_{r2}$ y en $F_{\\theta2}$, usaremos el diagrama de cuerpo libre tal que se realiza la siguiente analogía:"
   ]
  },
  {
   "cell_type": "markdown",
   "id": "adverse-insider",
   "metadata": {},
   "source": [
    "> + 1) Para la tension\n",
    "\n",
    "<p style=\"text-align:center\">\n",
    "\t<img src=\"T.JPG\" alt=\"Zoom del plano en T\" width=30%/></a><br>\n",
    "    <strong> Figura 3: Zoom del plano en T. </strong>\n",
    "    \n",
    "\\begin{align*}\n",
    "T=Tcos(\\theta_{2}-\\theta_{1})+Tsin(\\theta_{2}-\\theta_{1})\n",
    "\\end{align*}\n"
   ]
  },
  {
   "cell_type": "markdown",
   "id": "express-toolbox",
   "metadata": {},
   "source": [
    "> + 2) Para el peso\n",
    "\n",
    "<p style=\"text-align:center\">\n",
    "\t<img src=\"P.JPG\" alt=\"Zoom del plano en T\" width=30%/></a><br>\n",
    "    <strong> Figura 4: Zoom del plano en Peso. </strong>\n",
    "    \n",
    "\\begin{align*}\n",
    "mg=mgcos(\\theta_{2})-mgsin(\\theta_{2})\n",
    "\\end{align*}\n"
   ]
  },
  {
   "cell_type": "markdown",
   "id": "built-regular",
   "metadata": {},
   "source": [
    "> + 3) Para la fuerza\n",
    "\n",
    "<p style=\"text-align:center\">\n",
    "\t<img src=\"F.JPG\" alt=\"Zoom del plano en T\" width=30%/></a><br>\n",
    "    <strong> Figura 5: Zoom del plano en F. </strong>\n",
    "    \n",
    "\\begin{align*}\n",
    "F=Fcos(\\theta_{2})+Fsin(\\theta_{2})\n",
    "\\end{align*}\n"
   ]
  },
  {
   "cell_type": "markdown",
   "id": "adapted-trading",
   "metadata": {},
   "source": [
    "Después sumamos las fuerzas de cada uno de los ejes, tal que:\n",
    "\n",
    "\\begin{align*} \\tag{i} \\label{recta}\n",
    "\\sum F_{r2}=Fsen(\\theta_{2})+mgcos(\\theta_{2})-Tcos(\\theta_{2}-\\theta_{1})=ma_{Cr2}\n",
    "\\end{align*}"
   ]
  },
  {
   "cell_type": "markdown",
   "id": "official-albania",
   "metadata": {},
   "source": [
    "\\begin{align*} \\tag{ii} \\label{recta}\n",
    "\\sum F_{r\\theta}=Fcos(\\theta_{2})-mgsen(\\theta_{2})+Tsin(\\theta_{2}-\\theta_{1})=ma_{C\\theta2}\n",
    "\\end{align*}\n"
   ]
  },
  {
   "cell_type": "markdown",
   "id": "endless-summary",
   "metadata": {},
   "source": [
    "Al tener nuestras dos ecuaciones y dos incognitas, se acude a nuestra caja de herramientas y utilizamos el momento sobre C. Guiandonos con las descomposiciones de fuerza anteriormente definidas tenemos que:\n"
   ]
  },
  {
   "cell_type": "markdown",
   "id": "liquid-incentive",
   "metadata": {},
   "source": [
    "<p style=\"text-align:center\">\n",
    "\t<img src=\"C.JPG\" alt=\"Zoom del plano en T\" width=60%/></a><br>\n",
    "    <strong> Figura 5:Diagrama momentum </strong>\n",
    "   "
   ]
  },
  {
   "cell_type": "markdown",
   "id": "cognitive-thunder",
   "metadata": {},
   "source": [
    "Entonces para $M_{c1}$, respecto la tension tenemos que:\n",
    "    \n",
    "\\begin{align*}\n",
    "M_{c1}=-T\\frac{L_{2}}{2}sen(\\theta_{2}-\\theta_{1})\n",
    "\\end{align*}\n",
    "\n",
    "Por regla de mano derecha, sale del plano (signo negativo)"
   ]
  },
  {
   "cell_type": "markdown",
   "id": "grateful-kazakhstan",
   "metadata": {},
   "source": [
    ">+ Y para $M_{c2}$, respecto la fuerza tenemos que:\n",
    "    \n",
    "\\begin{align*}\n",
    "M_{c2}=F\\frac{L_{2}}{2}cos(\\theta_{2})\n",
    "\\end{align*}\n",
    "\n",
    ">Por regla de la mano derecha, entra(signo positivo)"
   ]
  },
  {
   "cell_type": "markdown",
   "id": "reported-corner",
   "metadata": {},
   "source": [
    "Entonces $M$, se define tal que:\n",
    "\n",
    "\\begin{align*}\n",
    "M=M_{c1}+M_{c2}\n",
    "\\end{align*}\n",
    "\n"
   ]
  },
  {
   "cell_type": "markdown",
   "id": "decimal-newfoundland",
   "metadata": {},
   "source": [
    "\\begin{align*}\n",
    "M=-T\\frac{L_{2}}{2}sen(\\theta_{2}-\\theta_{1})+F\\frac{L_{2}}{2}cos(\\theta_{2})\n",
    "\\end{align*}\n",
    "\n"
   ]
  },
  {
   "cell_type": "markdown",
   "id": "western-award",
   "metadata": {},
   "source": [
    "Ahora, tomando los componentes de la aceleracion $a_{c}$ ($a_{rc2}$ y $a_{\\theta2}$) insertando en la ecuación $i$ e $ii$, tenemos que:\n",
    "\n",
    "\\begin{align*}\n",
    "Fsen(\\theta_{2})+mgcos(\\theta_{2})-Tcos(\\theta_{2}-\\theta_{1})=m[L_{1}\\ddot{\\theta_{1}}\\sin(\\theta_{2}-\\theta_{1})-L_{1}{\\dot\\theta_{1}^{2}cos(\\theta_{2}-\\theta_{1})}-\\frac{L_{2}}{2}\\dot{\\theta_{2}^{2}}]\n",
    "\\end{align*}"
   ]
  },
  {
   "cell_type": "markdown",
   "id": "driving-logic",
   "metadata": {},
   "source": [
    "\\begin{align*}\n",
    "Fcos(\\theta_{2})-mgsen(\\theta_{2})+Tsin(\\theta_{2}-\\theta_{1})=m[L_{1}\\ddot{\\theta_{1}}\\cos(\\theta_{2}-\\theta_{1})+L_{1}{\\dot{\\theta_{1}^{2}}sin(\\theta_{2}-\\theta_{1})}+\\frac{L_{2}}{2}\\ddot{\\theta_{2}^{2}}]\n",
    "\\end{align*}"
   ]
  },
  {
   "cell_type": "markdown",
   "id": "smoking-present",
   "metadata": {},
   "source": [
    "Recordar que:\n",
    "\\begin{align*}\n",
    "M=I_{C}\\ddot{\\theta_{2}}\n",
    "\\end{align*}\n",
    "\n",
    "> para el momento de inercia tenemos que\n",
    "\n",
    "\\begin{align*}\n",
    "I_{0}=\\int_{cuerpo}^{}x^{2}du\\Rightarrow du=\\frac{m}{L}dx\n",
    "\\end{align*}\n",
    "\n",
    "\\begin{align*}\n",
    "I_{0}=\\frac{m}{L_{2}}\\int_{-\\frac{L_{2}}{2}}^{\\frac{L_{2}}{2}}x^{2}dx=\\frac{m}{L_{2}}[\\frac{(\\frac{L_{2}}{2})^{3}}{3}-\\frac{(-\\frac{L_{2}}{2})^{3}}{3}]\n",
    "\\end{align*}\n",
    "\n",
    "> entonces el momento de inercia $I_{0}$ para la barra:\n",
    "\n",
    "\\begin{align*}\n",
    "I_{0}=m\\frac{L_{2}^{2}}{12}\n",
    "\\end{align*}\n"
   ]
  },
  {
   "cell_type": "markdown",
   "id": "answering-purse",
   "metadata": {},
   "source": [
    "Y como\n",
    "\n",
    "\\begin{align*}\n",
    "M=I_{0}\\alpha\n",
    "\\end{align*}"
   ]
  },
  {
   "cell_type": "markdown",
   "id": "dated-suggestion",
   "metadata": {},
   "source": [
    "Finalmente:\n",
    "\n",
    "\\begin{align*}\n",
    "F\\frac{L_{2}}{2}cos(\\theta_{2})-T\\frac{L_{2}}{2}sen(\\theta_{2}-\\theta_{1})=m\\frac{L_{2}^{2}}{12}\\ddot{\\theta_{2}}\n",
    "\\end{align*}\n"
   ]
  }
 ],
 "metadata": {
  "kernelspec": {
   "display_name": "Python 3",
   "language": "python",
   "name": "python3"
  },
  "language_info": {
   "codemirror_mode": {
    "name": "ipython",
    "version": 3
   },
   "file_extension": ".py",
   "mimetype": "text/x-python",
   "name": "python",
   "nbconvert_exporter": "python",
   "pygments_lexer": "ipython3",
   "version": "3.7.4"
  }
 },
 "nbformat": 4,
 "nbformat_minor": 5
}
